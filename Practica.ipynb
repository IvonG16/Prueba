{
 "cells": [
  {
   "cell_type": "markdown",
   "id": "2cfa9c88",
   "metadata": {},
   "source": [
    "Ejercicio 01: Crea un vector nulo (null vector) que tenga 10 elementos"
   ]
  },
  {
   "cell_type": "code",
   "execution_count": 10,
   "id": "a266d45f",
   "metadata": {},
   "outputs": [
    {
     "name": "stdout",
     "output_type": "stream",
     "text": [
      "[0. 0. 0. 0. 0. 0. 0. 0. 0. 0.]\n"
     ]
    }
   ],
   "source": [
    "import numpy as np\n",
    "np.zeros(10)\n",
    "array = np.array([0., 0., 0., 0., 0., 0., 0., 0., 0., 0.])\n",
    "print(array)"
   ]
  },
  {
   "cell_type": "markdown",
   "id": "ba94cd8b",
   "metadata": {},
   "source": [
    "Ejercicio 02: Crea un vector de unos que tenga 10 elementos"
   ]
  },
  {
   "cell_type": "code",
   "execution_count": 13,
   "id": "f7d6d1ed",
   "metadata": {},
   "outputs": [
    {
     "name": "stdout",
     "output_type": "stream",
     "text": [
      "[1. 1. 1. 1. 1. 1. 1. 1. 1. 1.]\n"
     ]
    }
   ],
   "source": [
    "import numpy as np\n",
    "np.ones(10)\n",
    "array = np.array([1., 1., 1., 1., 1., 1., 1., 1., 1., 1.])\n",
    "print(array)"
   ]
  },
  {
   "cell_type": "markdown",
   "id": "638a066b",
   "metadata": {},
   "source": [
    "Ejercicio 03: Investiga la función linspace de NumPy y crea un array que contenga 10 elementos\n"
   ]
  },
  {
   "cell_type": "code",
   "execution_count": 21,
   "id": "348f71ff",
   "metadata": {},
   "outputs": [
    {
     "name": "stdout",
     "output_type": "stream",
     "text": [
      "[ 1.  2.  3.  4.  5.  6.  7.  8.  9. 10.]\n"
     ]
    }
   ],
   "source": [
    "import numpy as np\n",
    "array = np.linspace(1, 10, 10)\n",
    "print(array)"
   ]
  },
  {
   "cell_type": "markdown",
   "id": "a69f2048",
   "metadata": {},
   "source": [
    "\n",
    "Ejercicio 04: Busca varias formas de generar un array con números aleatorios y crea un array 1D y dos arrays 2D"
   ]
  },
  {
   "cell_type": "code",
   "execution_count": 23,
   "id": "be171504",
   "metadata": {},
   "outputs": [
    {
     "name": "stdout",
     "output_type": "stream",
     "text": [
      "[[0.30679716 0.21796867 0.27255887 0.78737214 0.66072952 0.68837373\n",
      "  0.65804729 0.78064146 0.70833006 0.27036814]]\n"
     ]
    }
   ],
   "source": [
    "array = np.random.rand(1,10)\n",
    "print(array)"
   ]
  },
  {
   "cell_type": "code",
   "execution_count": 25,
   "id": "053bd673",
   "metadata": {},
   "outputs": [
    {
     "name": "stdout",
     "output_type": "stream",
     "text": [
      "[0 1 1 0 1 0 0 1 0 0]\n"
     ]
    }
   ],
   "source": [
    "array = np.random.randint(2, size=10)\n",
    "print(array)"
   ]
  },
  {
   "cell_type": "code",
   "execution_count": 6,
   "id": "7f25ca95",
   "metadata": {},
   "outputs": [
    {
     "name": "stdout",
     "output_type": "stream",
     "text": [
      "[[4 0 2 1]\n",
      " [3 2 2 0]]\n"
     ]
    }
   ],
   "source": [
    "# Genere una matriz de 2 x 4 de enteros entre 0 y 4, ambos incluidos:\n",
    "\n",
    "import numpy as np\n",
    "np.random.randint(5, size=(2, 4))\n",
    "array = np.array([[4, 0, 2, 1], [3, 2, 2, 0]])\n",
    "print(array)"
   ]
  },
  {
   "cell_type": "code",
   "execution_count": 8,
   "id": "7c9554f9",
   "metadata": {},
   "outputs": [
    {
     "name": "stdout",
     "output_type": "stream",
     "text": [
      "[2 2 9]\n"
     ]
    }
   ],
   "source": [
    "#   Genere una matriz de 1 x 3 con 3 límites superiores diferentes\n",
    "\n",
    "import numpy as np\n",
    "np.random.randint(1, [3, 5, 10])\n",
    "array = np.array([2, 2, 9])\n",
    "print(array)"
   ]
  },
  {
   "cell_type": "code",
   "execution_count": 10,
   "id": "e8a34928",
   "metadata": {},
   "outputs": [
    {
     "name": "stdout",
     "output_type": "stream",
     "text": [
      "[9 8 7]\n"
     ]
    }
   ],
   "source": [
    "# Genere una matriz de 1 por 3 con 3 límites inferiores diferentes\n",
    "\n",
    "import numpy as np\n",
    "np.random.randint([1, 5, 7], 10)\n",
    "array = np.array([9, 8, 7])\n",
    "print(array)"
   ]
  }
 ],
 "metadata": {
  "kernelspec": {
   "display_name": "Python 3",
   "language": "python",
   "name": "python3"
  },
  "language_info": {
   "codemirror_mode": {
    "name": "ipython",
    "version": 3
   },
   "file_extension": ".py",
   "mimetype": "text/x-python",
   "name": "python",
   "nbconvert_exporter": "python",
   "pygments_lexer": "ipython3",
   "version": "3.12.1"
  }
 },
 "nbformat": 4,
 "nbformat_minor": 5
}
