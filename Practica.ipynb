{
 "cells": [
  {
   "cell_type": "markdown",
   "id": "2cfa9c88",
   "metadata": {},
   "source": [
    "Ejercicio 01: Crea un vector nulo (null vector) que tenga 10 elementos"
   ]
  },
  {
   "cell_type": "code",
   "execution_count": 10,
   "id": "a266d45f",
   "metadata": {},
   "outputs": [
    {
     "name": "stdout",
     "output_type": "stream",
     "text": [
      "[0. 0. 0. 0. 0. 0. 0. 0. 0. 0.]\n"
     ]
    }
   ],
   "source": [
    "import numpy as np\n",
    "np.zeros(10)\n",
    "array = np.array([0., 0., 0., 0., 0., 0., 0., 0., 0., 0.])\n",
    "print(array)"
   ]
  },
  {
   "cell_type": "markdown",
   "id": "ba94cd8b",
   "metadata": {},
   "source": [
    "Ejercicio 02: Crea un vector de unos que tenga 10 elementos"
   ]
  },
  {
   "cell_type": "code",
   "execution_count": 13,
   "id": "f7d6d1ed",
   "metadata": {},
   "outputs": [
    {
     "name": "stdout",
     "output_type": "stream",
     "text": [
      "[1. 1. 1. 1. 1. 1. 1. 1. 1. 1.]\n"
     ]
    }
   ],
   "source": [
    "import numpy as np\n",
    "np.ones(10)\n",
    "array = np.array([1., 1., 1., 1., 1., 1., 1., 1., 1., 1.])\n",
    "print(array)"
   ]
  },
  {
   "cell_type": "markdown",
   "id": "638a066b",
   "metadata": {},
   "source": [
    "Ejercicio 03: Investiga la función linspace de NumPy y crea un array que contenga 10 elementos\n"
   ]
  },
  {
   "cell_type": "code",
   "execution_count": 21,
   "id": "348f71ff",
   "metadata": {},
   "outputs": [
    {
     "name": "stdout",
     "output_type": "stream",
     "text": [
      "[ 1.  2.  3.  4.  5.  6.  7.  8.  9. 10.]\n"
     ]
    }
   ],
   "source": [
    "import numpy as np\n",
    "array = np.linspace(1, 10, 10)\n",
    "print(array)"
   ]
  },
  {
   "cell_type": "markdown",
   "id": "a69f2048",
   "metadata": {},
   "source": [
    "\n",
    "Ejercicio 04: Busca varias formas de generar un array con números aleatorios y crea un array 1D y dos arrays 2D"
   ]
  },
  {
   "cell_type": "code",
   "execution_count": 23,
   "id": "be171504",
   "metadata": {},
   "outputs": [
    {
     "name": "stdout",
     "output_type": "stream",
     "text": [
      "[[0.30679716 0.21796867 0.27255887 0.78737214 0.66072952 0.68837373\n",
      "  0.65804729 0.78064146 0.70833006 0.27036814]]\n"
     ]
    }
   ],
   "source": [
    "array = np.random.rand(1,10)\n",
    "print(array)"
   ]
  },
  {
   "cell_type": "code",
   "execution_count": 25,
   "id": "053bd673",
   "metadata": {},
   "outputs": [
    {
     "name": "stdout",
     "output_type": "stream",
     "text": [
      "[0 1 1 0 1 0 0 1 0 0]\n"
     ]
    }
   ],
   "source": [
    "array = np.random.randint(2, size=10)\n",
    "print(array)"
   ]
  },
  {
   "cell_type": "code",
   "execution_count": 6,
   "id": "7f25ca95",
   "metadata": {},
   "outputs": [
    {
     "name": "stdout",
     "output_type": "stream",
     "text": [
      "[[4 0 2 1]\n",
      " [3 2 2 0]]\n"
     ]
    }
   ],
   "source": [
    "# Genere una matriz de 2 x 4 de enteros entre 0 y 4, ambos incluidos:\n",
    "\n",
    "import numpy as np\n",
    "np.random.randint(5, size=(2, 4))\n",
    "array = np.array([[4, 0, 2, 1], [3, 2, 2, 0]])\n",
    "print(array)"
   ]
  },
  {
   "cell_type": "code",
   "execution_count": 8,
   "id": "7c9554f9",
   "metadata": {},
   "outputs": [
    {
     "name": "stdout",
     "output_type": "stream",
     "text": [
      "[2 2 9]\n"
     ]
    }
   ],
   "source": [
    "#   Genere una matriz de 1 x 3 con 3 límites superiores diferentes\n",
    "\n",
    "import numpy as np\n",
    "np.random.randint(1, [3, 5, 10])\n",
    "array = np.array([2, 2, 9])\n",
    "print(array)"
   ]
  },
  {
   "cell_type": "code",
   "execution_count": 10,
   "id": "e8a34928",
   "metadata": {},
   "outputs": [
    {
     "name": "stdout",
     "output_type": "stream",
     "text": [
      "[9 8 7]\n"
     ]
    }
   ],
   "source": [
    "# Genere una matriz de 1 por 3 con 3 límites inferiores diferentes\n",
    "\n",
    "import numpy as np\n",
    "np.random.randint([1, 5, 7], 10)\n",
    "array = np.array([9, 8, 7])\n",
    "print(array)"
   ]
  },
  {
   "cell_type": "code",
   "execution_count": 6,
   "id": "65086ab4",
   "metadata": {},
   "outputs": [
    {
     "name": "stdout",
     "output_type": "stream",
     "text": [
      "[[ 8  6  9  7]\n",
      " [ 1 16  9 12]]\n"
     ]
    }
   ],
   "source": [
    "# Genere una matriz de 2 por 4 usando la transmisión con dtype de uint8\n",
    "\n",
    "import numpy as np\n",
    "np.random.randint([1, 3, 5, 7], [[10], [20]], dtype=np.uint8)\n",
    "array = np.array([[ 8,  6,  9,  7], [ 1, 16,  9, 12]], dtype=np.uint8)\n",
    "print(array)"
   ]
  },
  {
   "cell_type": "code",
   "execution_count": 9,
   "id": "bffd351b",
   "metadata": {},
   "outputs": [
    {
     "name": "stdout",
     "output_type": "stream",
     "text": [
      "2.1923875335537315\n"
     ]
    }
   ],
   "source": [
    "import numpy as np\n",
    "np.random.randn()\n",
    "2.1923875335537315\n",
    "array = np.array(2.1923875335537315)\n",
    "print(array)"
   ]
  },
  {
   "cell_type": "code",
   "execution_count": 10,
   "id": "1968b6e6",
   "metadata": {},
   "outputs": [
    {
     "data": {
      "text/plain": [
       "array([[-4.49401501,  4.00950034, -1.81814867,  7.29718677],\n",
       "       [ 0.39924804,  4.68456316,  4.99394529,  4.84057254]])"
      ]
     },
     "execution_count": 10,
     "metadata": {},
     "output_type": "execute_result"
    }
   ],
   "source": [
    "# Matriz de muestras de dos por cuatro de la distribución normal con Media 3 y desviación estándar 2,5:\n",
    "\n",
    "import numpy as np\n",
    "3 + 2.5 * np.random.randn(2, 4)\n",
    "np.array([[-4.49401501,  4.00950034, -1.81814867,  7.29718677], [ 0.39924804,  4.68456316,  4.99394529,  4.84057254]])"
   ]
  },
  {
   "cell_type": "markdown",
   "id": "4154aa86",
   "metadata": {},
   "source": [
    "Ejercicio 05: Crea una matriz (array 2D) identidad de 5x5"
   ]
  },
  {
   "cell_type": "code",
   "execution_count": 12,
   "id": "9c9d0916",
   "metadata": {},
   "outputs": [
    {
     "data": {
      "text/plain": [
       "array([[0, 1, 1, 1, 1],\n",
       "       [1, 0, 1, 1, 1],\n",
       "       [1, 1, 0, 1, 1],\n",
       "       [1, 1, 1, 0, 1],\n",
       "       [1, 1, 1, 1, 0]])"
      ]
     },
     "execution_count": 12,
     "metadata": {},
     "output_type": "execute_result"
    }
   ],
   "source": [
    "import numpy as np\n",
    "np.eye(5, dtype=int)\n",
    "np.array([[0, 1, 1, 1, 1], [1, 0, 1, 1, 1], [1, 1, 0, 1, 1], [1, 1, 1, 0, 1], [1, 1, 1, 1, 0]])\n",
    "np.eye(5, k=0)\n",
    "np.array([[0, 1, 1, 1, 1], [1, 0, 1, 1, 1], [1, 1, 0, 1, 1], [1, 1, 1, 0, 1], [1, 1, 1, 1, 0]])"
   ]
  },
  {
   "cell_type": "markdown",
   "id": "5ecae7b9",
   "metadata": {},
   "source": [
    "Ejercicio 06: Crea una matriz con números aleatorios de 3x2 y calcula el valor mínimo y máximo"
   ]
  },
  {
   "cell_type": "code",
   "execution_count": 20,
   "id": "1718780b",
   "metadata": {},
   "outputs": [
    {
     "data": {
      "text/plain": [
       "array([[0, 1],\n",
       "       [2, 3],\n",
       "       [4, 5]])"
      ]
     },
     "execution_count": 20,
     "metadata": {},
     "output_type": "execute_result"
    }
   ],
   "source": [
    "import numpy as np\n",
    "b = np.arange(6).reshape((3,2))\n",
    "np.array([[0, 1], [2, 3], [4, 5]])\n"
   ]
  },
  {
   "cell_type": "code",
   "execution_count": 21,
   "id": "60d4ab86",
   "metadata": {},
   "outputs": [
    {
     "data": {
      "text/plain": [
       "np.int64(0)"
      ]
     },
     "execution_count": 21,
     "metadata": {},
     "output_type": "execute_result"
    }
   ],
   "source": [
    "np.min(b)"
   ]
  },
  {
   "cell_type": "code",
   "execution_count": 22,
   "id": "febbb1b7",
   "metadata": {},
   "outputs": [
    {
     "data": {
      "text/plain": [
       "np.int64(5)"
      ]
     },
     "execution_count": 22,
     "metadata": {},
     "output_type": "execute_result"
    }
   ],
   "source": [
    "np.max(b)"
   ]
  },
  {
   "cell_type": "markdown",
   "id": "b48bc26f",
   "metadata": {},
   "source": [
    "Ejercicio 07: Crea un vector con números aleatorios de 30 elementos y calcula la media"
   ]
  },
  {
   "cell_type": "code",
   "execution_count": 4,
   "id": "a5b7f8b0",
   "metadata": {},
   "outputs": [
    {
     "name": "stdout",
     "output_type": "stream",
     "text": [
      "[39 61 75 89 79 85 90 68 46 77 44 95 43 90 28 90 70 91 87 54 79 23 31 60\n",
      " 32 54 82 62 67 62]\n"
     ]
    }
   ],
   "source": [
    "import numpy as np\n",
    "vector_entero = np.random.randint(1, 101, size=30)\n",
    "media_entero = np.mean(vector_entero)\n",
    "print(vector_entero)"
   ]
  },
  {
   "cell_type": "code",
   "execution_count": 5,
   "id": "7d911f25",
   "metadata": {},
   "outputs": [
    {
     "name": "stdout",
     "output_type": "stream",
     "text": [
      "65.1\n"
     ]
    }
   ],
   "source": [
    "print(media_entero)"
   ]
  },
  {
   "cell_type": "markdown",
   "id": "7e1df5c7",
   "metadata": {},
   "source": [
    "Ejercicio 08: Convierte la lista [1, 2, 3] y la tupla (1, 2, 3) en arrays"
   ]
  },
  {
   "cell_type": "code",
   "execution_count": 7,
   "id": "5587e9f2",
   "metadata": {},
   "outputs": [],
   "source": [
    "import numpy as np\n",
    "lista = [1, 2, 3]\n",
    "tupla = (1, 2, 3)\n",
    "\n",
    "array_lista = np.array(lista)\n",
    "array_tupla = np.array(tupla) "
   ]
  },
  {
   "cell_type": "code",
   "execution_count": 9,
   "id": "ec764a83",
   "metadata": {},
   "outputs": [
    {
     "name": "stdout",
     "output_type": "stream",
     "text": [
      "[1 2 3]\n"
     ]
    }
   ],
   "source": [
    "print(array_lista)"
   ]
  },
  {
   "cell_type": "code",
   "execution_count": 10,
   "id": "4f972701",
   "metadata": {},
   "outputs": [
    {
     "name": "stdout",
     "output_type": "stream",
     "text": [
      "[1 2 3]\n"
     ]
    }
   ],
   "source": [
    "print(array_tupla)"
   ]
  },
  {
   "cell_type": "markdown",
   "id": "1644550e",
   "metadata": {},
   "source": [
    "Ejercicio 09: Invierte el vector del ejercicio anterior"
   ]
  },
  {
   "cell_type": "code",
   "execution_count": 11,
   "id": "8fd1e23c",
   "metadata": {},
   "outputs": [
    {
     "name": "stdout",
     "output_type": "stream",
     "text": [
      "Vector original: [1 2 3]\n",
      "Vector invertido: [3 2 1]\n"
     ]
    }
   ],
   "source": [
    "import numpy as np\n",
    "vector_original = np.array([1, 2, 3])\n",
    "\n",
    "vector_invertido = vector_original[::-1]\n",
    "\n",
    "print(\"Vector original:\", vector_original)\n",
    "print(\"Vector invertido:\", vector_invertido)\n"
   ]
  },
  {
   "cell_type": "markdown",
   "id": "d686b432",
   "metadata": {},
   "source": [
    "Ejercicio 10: Cambia el tamaño de un array aleatorio de dimensiones 5x12 en 12x5"
   ]
  },
  {
   "cell_type": "code",
   "execution_count": 14,
   "id": "6135ff33",
   "metadata": {},
   "outputs": [
    {
     "name": "stdout",
     "output_type": "stream",
     "text": [
      "Array original (5x12):\n",
      " [[4.16781435e-01 1.31844378e-01 8.46221768e-01 5.08097691e-01\n",
      "  3.29473870e-01 6.95731301e-01 4.63992172e-01 8.13058443e-01\n",
      "  3.49179566e-01 5.18673679e-01 9.50574235e-01 8.66534074e-01]\n",
      " [8.44508731e-01 1.87905193e-02 4.36622854e-01 7.03277222e-01\n",
      "  9.47439877e-01 7.78378719e-01 4.16187415e-01 2.74481638e-01\n",
      "  6.91513161e-02 7.50709325e-01 8.84313278e-02 1.13971534e-01]\n",
      " [2.72862618e-01 4.91892004e-01 3.99515681e-01 8.51261870e-01\n",
      "  3.98930315e-01 5.66132009e-01 2.13047976e-01 1.72061236e-01\n",
      "  2.65350997e-01 9.12184672e-01 2.47300209e-01 6.21904964e-01]\n",
      " [7.14264405e-04 5.15075248e-01 2.19329034e-01 2.16955534e-01\n",
      "  1.49600074e-01 3.43216322e-01 8.63174381e-01 6.57105469e-01\n",
      "  8.34604572e-01 5.46417085e-01 4.42079678e-01 7.01536524e-01]\n",
      " [7.58746338e-01 9.06398630e-01 2.74349389e-01 6.71761394e-01\n",
      "  3.68125184e-01 7.55311284e-01 1.94457037e-01 7.23906212e-01\n",
      "  7.49451609e-01 2.59189269e-01 1.67503047e-01 6.76204625e-01]]\n",
      "\n",
      "Array redimensionado (12x5):\n",
      " [[4.16781435e-01 1.31844378e-01 8.46221768e-01 5.08097691e-01\n",
      "  3.29473870e-01]\n",
      " [6.95731301e-01 4.63992172e-01 8.13058443e-01 3.49179566e-01\n",
      "  5.18673679e-01]\n",
      " [9.50574235e-01 8.66534074e-01 8.44508731e-01 1.87905193e-02\n",
      "  4.36622854e-01]\n",
      " [7.03277222e-01 9.47439877e-01 7.78378719e-01 4.16187415e-01\n",
      "  2.74481638e-01]\n",
      " [6.91513161e-02 7.50709325e-01 8.84313278e-02 1.13971534e-01\n",
      "  2.72862618e-01]\n",
      " [4.91892004e-01 3.99515681e-01 8.51261870e-01 3.98930315e-01\n",
      "  5.66132009e-01]\n",
      " [2.13047976e-01 1.72061236e-01 2.65350997e-01 9.12184672e-01\n",
      "  2.47300209e-01]\n",
      " [6.21904964e-01 7.14264405e-04 5.15075248e-01 2.19329034e-01\n",
      "  2.16955534e-01]\n",
      " [1.49600074e-01 3.43216322e-01 8.63174381e-01 6.57105469e-01\n",
      "  8.34604572e-01]\n",
      " [5.46417085e-01 4.42079678e-01 7.01536524e-01 7.58746338e-01\n",
      "  9.06398630e-01]\n",
      " [2.74349389e-01 6.71761394e-01 3.68125184e-01 7.55311284e-01\n",
      "  1.94457037e-01]\n",
      " [7.23906212e-01 7.49451609e-01 2.59189269e-01 1.67503047e-01\n",
      "  6.76204625e-01]]\n"
     ]
    }
   ],
   "source": [
    "# Ejemplo Copilot\n",
    "import numpy as np\n",
    "\n",
    "# Crear un array aleatorio de 5x12\n",
    "array_original = np.random.rand(5, 12)\n",
    "\n",
    "# Cambiar la forma a 12x5\n",
    "array_redimensionado = array_original.reshape(12, 5)\n",
    "\n",
    "print(\"Array original (5x12):\\n\", array_original)\n",
    "print(\"\\nArray redimensionado (12x5):\\n\", array_redimensionado)\n"
   ]
  },
  {
   "cell_type": "code",
   "execution_count": 18,
   "id": "8d99b7aa",
   "metadata": {},
   "outputs": [
    {
     "name": "stdout",
     "output_type": "stream",
     "text": [
      "[[ 1  2  3  4  5]\n",
      " [ 6  7  8  9 10]\n",
      " [11 12 13 14 15]\n",
      " [16 17 18 19 20]\n",
      " [21 22 23 24 25]\n",
      " [26 27 28 29 30]\n",
      " [31 32 33 34 35]\n",
      " [36 37 38 39 40]\n",
      " [41 42 43 44 45]\n",
      " [46 47 48 49 50]\n",
      " [51 52 53 54 55]\n",
      " [56 57 58 59 60]]\n"
     ]
    }
   ],
   "source": [
    "# Ejemplo de link de Pedro\n",
    "\n",
    "import numpy as np\n",
    "a = np.array([[1, 2, 3, 4, 5], [6, 7, 8, 9 , 10], [11, 12, 13, 14, 15], [16, 17, 18, 19, 20], [21, 22, 23, 24, 25], \n",
    "             [26, 27, 28, 29,30], [31, 32, 33, 34, 35], [36, 37, 38, 39, 40], [41, 42, 43, 44, 45], [46, 47, 48, 49,50],\n",
    "              [51, 52, 53, 54, 55], [56, 57, 58, 59, 60]])\n",
    "print(a)"
   ]
  },
  {
   "cell_type": "code",
   "execution_count": 21,
   "id": "ec162d56",
   "metadata": {},
   "outputs": [
    {
     "data": {
      "text/plain": [
       "array([[ 1,  2,  3,  4,  5,  6,  7,  8,  9, 10, 11, 12],\n",
       "       [13, 14, 15, 16, 17, 18, 19, 20, 21, 22, 23, 24],\n",
       "       [25, 26, 27, 28, 29, 30, 31, 32, 33, 34, 35, 36],\n",
       "       [37, 38, 39, 40, 41, 42, 43, 44, 45, 46, 47, 48],\n",
       "       [49, 50, 51, 52, 53, 54, 55, 56, 57, 58, 59, 60]])"
      ]
     },
     "execution_count": 21,
     "metadata": {},
     "output_type": "execute_result"
    }
   ],
   "source": [
    "a.reshape(5, 12)"
   ]
  },
  {
   "cell_type": "markdown",
   "id": "6d7f50c7",
   "metadata": {},
   "source": [
    "Ejercicio 11: Convierte la lista [1, 2, 0, 0, 4, 0] en un array y obtén el índice de los elementos que no son cero"
   ]
  },
  {
   "cell_type": "code",
   "execution_count": 28,
   "id": "db7589da",
   "metadata": {},
   "outputs": [
    {
     "name": "stdout",
     "output_type": "stream",
     "text": [
      "Array: [1 2 0 0 4 0]\n",
      "Índices de elementos no cero: [0 1 4]\n"
     ]
    }
   ],
   "source": [
    "import numpy as np\n",
    "lista = [1, 2, 0, 0, 4, 0]\n",
    "array = np.array(lista)\n",
    "\n",
    "indices_no_cero = np.nonzero(array)\n",
    "\n",
    "print(\"Array:\", array)\n",
    "print(\"Índices de elementos no cero:\", indices_no_cero[0])\n"
   ]
  },
  {
   "cell_type": "markdown",
   "id": "3ff7ef10",
   "metadata": {},
   "source": [
    "Ejercicio 12: Convierte la lista [0, 5, -1, 3, 15] en un array, multiplica sus valores por -2 y obtén los elementos pares"
   ]
  },
  {
   "cell_type": "code",
   "execution_count": 29,
   "id": "04382a94",
   "metadata": {},
   "outputs": [
    {
     "name": "stdout",
     "output_type": "stream",
     "text": [
      "Array original: [ 0  5 -1  3 15]\n",
      "Array multiplicado por -2: [  0 -10   2  -6 -30]\n",
      "Elementos pares: [  0 -10   2  -6 -30]\n"
     ]
    }
   ],
   "source": [
    "import numpy as np\n",
    "lista = [0, 5, -1, 3, 15]\n",
    "array = np.array(lista)\n",
    "\n",
    "array_multiplicado = array * -2\n",
    "\n",
    "# Filtrar los elementos pares\n",
    "elementos_pares = array_multiplicado[array_multiplicado % 2 == 0]\n",
    "\n",
    "print(\"Array original:\", array)\n",
    "print(\"Array multiplicado por -2:\", array_multiplicado)\n",
    "print(\"Elementos pares:\", elementos_pares)\n"
   ]
  },
  {
   "cell_type": "markdown",
   "id": "3a7d898c",
   "metadata": {},
   "source": [
    "Ejercicio 13: Crea un vector aleatorio de 10 elementos y ordénalo de menor a mayor"
   ]
  },
  {
   "cell_type": "code",
   "execution_count": 35,
   "id": "7e035091",
   "metadata": {},
   "outputs": [
    {
     "name": "stdout",
     "output_type": "stream",
     "text": [
      "vector [17 31 33 32  8 10 12  7 37  1]\n",
      "vector_ordenado [ 1  7  8 10 12 17 31 32 33 37]\n"
     ]
    }
   ],
   "source": [
    "import numpy as np\n",
    "vector = np.random.randint(1, 40, size = 10)\n",
    "vector_ordenado = np.sort(vector)\n",
    "\n",
    "print(\"vector\", vector)\n",
    "print(\"vector_ordenado\", vector_ordenado)"
   ]
  },
  {
   "cell_type": "markdown",
   "id": "2504da12",
   "metadata": {},
   "source": [
    "Ejercicio 14: Genera dos vectores aleatorios de 8 elementos y aplica las operaciones de suma, resta y multiplicación entre ellos"
   ]
  },
  {
   "cell_type": "code",
   "execution_count": 39,
   "id": "ce0f9551",
   "metadata": {},
   "outputs": [
    {
     "name": "stdout",
     "output_type": "stream",
     "text": [
      "a [5 4 9 3 1 8 7 1]\n",
      "b [10 12 15 14 11 15 19 17]\n",
      "suma [15 16 24 17 12 23 26 18]\n",
      "resta [ -5  -8  -6 -11 -10  -7 -12 -16]\n",
      "multiplicacion [ 50  48 135  42  11 120 133  17]\n"
     ]
    }
   ],
   "source": [
    "import numpy as np\n",
    "a = np.random.randint(1, 10, size = 8)\n",
    "b = np.random.randint(10, 20, size = 8)\n",
    "\n",
    "suma = a + b\n",
    "resta = a - b\n",
    "multiplicacion = a * b\n",
    "\n",
    "print(\"a\", a)\n",
    "print(\"b\", b)\n",
    "print(\"suma\", suma)\n",
    "print(\"resta\", resta)\n",
    "print(\"multiplicacion\", multiplicacion)"
   ]
  },
  {
   "cell_type": "markdown",
   "id": "ec8cc516",
   "metadata": {},
   "source": [
    "Ejercicio 15: Convierte la lista [1, 2, 3, 4, 5, 6, 7, 8, 9, 10, 11, 12] en un array y transfórmalo en una matriz con filas de 3 columnas"
   ]
  },
  {
   "cell_type": "code",
   "execution_count": 41,
   "id": "eb3808e2",
   "metadata": {},
   "outputs": [
    {
     "name": "stdout",
     "output_type": "stream",
     "text": [
      "lista [1, 2, 3, 4, 5, 6, 7, 8, 9, 10, 11, 12]\n",
      "array [ 1  2  3  4  5  6  7  8  9 10 11 12]\n",
      "Matriz [[ 1  2  3]\n",
      " [ 4  5  6]\n",
      " [ 7  8  9]\n",
      " [10 11 12]]\n"
     ]
    }
   ],
   "source": [
    "import numpy as np\n",
    "lista = [1, 2, 3, 4, 5, 6, 7, 8, 9, 10, 11, 12]\n",
    "array = np.array(lista)\n",
    "\n",
    "# Transformarcion\n",
    "matriz = array.reshape(-1, 3)\n",
    "\n",
    "print(\"lista\", lista)\n",
    "print(\"array\", array)\n",
    "print(\"Matriz\", matriz)"
   ]
  }
 ],
 "metadata": {
  "kernelspec": {
   "display_name": "Python 3",
   "language": "python",
   "name": "python3"
  },
  "language_info": {
   "codemirror_mode": {
    "name": "ipython",
    "version": 3
   },
   "file_extension": ".py",
   "mimetype": "text/x-python",
   "name": "python",
   "nbconvert_exporter": "python",
   "pygments_lexer": "ipython3",
   "version": "3.12.1"
  }
 },
 "nbformat": 4,
 "nbformat_minor": 5
}
